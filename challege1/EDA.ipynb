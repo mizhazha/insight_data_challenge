{
 "cells": [
  {
   "cell_type": "code",
   "execution_count": 74,
   "metadata": {
    "collapsed": true
   },
   "outputs": [],
   "source": [
    "import pandas as pd\n",
    "import numpy as np\n",
    "import math\n",
    "from datetime import datetime, timedelta"
   ]
  },
  {
   "cell_type": "code",
   "execution_count": 75,
   "metadata": {
    "collapsed": true
   },
   "outputs": [],
   "source": [
    "# We have data about all employees who joined from 2011/01/24 to 2015/12/13.\n",
    "employee_retention = pd.read_csv('employee_retention_data.csv')"
   ]
  },
  {
   "cell_type": "code",
   "execution_count": 76,
   "metadata": {},
   "outputs": [
    {
     "data": {
      "text/html": [
       "<div>\n",
       "<style>\n",
       "    .dataframe thead tr:only-child th {\n",
       "        text-align: right;\n",
       "    }\n",
       "\n",
       "    .dataframe thead th {\n",
       "        text-align: left;\n",
       "    }\n",
       "\n",
       "    .dataframe tbody tr th {\n",
       "        vertical-align: top;\n",
       "    }\n",
       "</style>\n",
       "<table border=\"1\" class=\"dataframe\">\n",
       "  <thead>\n",
       "    <tr style=\"text-align: right;\">\n",
       "      <th></th>\n",
       "      <th>employee_id</th>\n",
       "      <th>company_id</th>\n",
       "      <th>dept</th>\n",
       "      <th>seniority</th>\n",
       "      <th>salary</th>\n",
       "      <th>join_date</th>\n",
       "      <th>quit_date</th>\n",
       "    </tr>\n",
       "  </thead>\n",
       "  <tbody>\n",
       "    <tr>\n",
       "      <th>0</th>\n",
       "      <td>13021.0</td>\n",
       "      <td>7</td>\n",
       "      <td>customer_service</td>\n",
       "      <td>28</td>\n",
       "      <td>89000.0</td>\n",
       "      <td>2014-03-24</td>\n",
       "      <td>2015-10-30</td>\n",
       "    </tr>\n",
       "    <tr>\n",
       "      <th>1</th>\n",
       "      <td>825355.0</td>\n",
       "      <td>7</td>\n",
       "      <td>marketing</td>\n",
       "      <td>20</td>\n",
       "      <td>183000.0</td>\n",
       "      <td>2013-04-29</td>\n",
       "      <td>2014-04-04</td>\n",
       "    </tr>\n",
       "    <tr>\n",
       "      <th>2</th>\n",
       "      <td>927315.0</td>\n",
       "      <td>4</td>\n",
       "      <td>marketing</td>\n",
       "      <td>14</td>\n",
       "      <td>101000.0</td>\n",
       "      <td>2014-10-13</td>\n",
       "      <td>NaN</td>\n",
       "    </tr>\n",
       "    <tr>\n",
       "      <th>3</th>\n",
       "      <td>662910.0</td>\n",
       "      <td>7</td>\n",
       "      <td>customer_service</td>\n",
       "      <td>20</td>\n",
       "      <td>115000.0</td>\n",
       "      <td>2012-05-14</td>\n",
       "      <td>2013-06-07</td>\n",
       "    </tr>\n",
       "    <tr>\n",
       "      <th>4</th>\n",
       "      <td>256971.0</td>\n",
       "      <td>2</td>\n",
       "      <td>data_science</td>\n",
       "      <td>23</td>\n",
       "      <td>276000.0</td>\n",
       "      <td>2011-10-17</td>\n",
       "      <td>2014-08-22</td>\n",
       "    </tr>\n",
       "  </tbody>\n",
       "</table>\n",
       "</div>"
      ],
      "text/plain": [
       "   employee_id  company_id              dept  seniority    salary   join_date  \\\n",
       "0      13021.0           7  customer_service         28   89000.0  2014-03-24   \n",
       "1     825355.0           7         marketing         20  183000.0  2013-04-29   \n",
       "2     927315.0           4         marketing         14  101000.0  2014-10-13   \n",
       "3     662910.0           7  customer_service         20  115000.0  2012-05-14   \n",
       "4     256971.0           2      data_science         23  276000.0  2011-10-17   \n",
       "\n",
       "    quit_date  \n",
       "0  2015-10-30  \n",
       "1  2014-04-04  \n",
       "2         NaN  \n",
       "3  2013-06-07  \n",
       "4  2014-08-22  "
      ]
     },
     "execution_count": 76,
     "metadata": {},
     "output_type": "execute_result"
    }
   ],
   "source": [
    "employee_retention.head(5)"
   ]
  },
  {
   "cell_type": "code",
   "execution_count": 77,
   "metadata": {},
   "outputs": [
    {
     "data": {
      "text/html": [
       "<div>\n",
       "<style>\n",
       "    .dataframe thead tr:only-child th {\n",
       "        text-align: right;\n",
       "    }\n",
       "\n",
       "    .dataframe thead th {\n",
       "        text-align: left;\n",
       "    }\n",
       "\n",
       "    .dataframe tbody tr th {\n",
       "        vertical-align: top;\n",
       "    }\n",
       "</style>\n",
       "<table border=\"1\" class=\"dataframe\">\n",
       "  <thead>\n",
       "    <tr style=\"text-align: right;\">\n",
       "      <th></th>\n",
       "      <th>employee_id</th>\n",
       "      <th>company_id</th>\n",
       "      <th>dept</th>\n",
       "      <th>seniority</th>\n",
       "      <th>salary</th>\n",
       "      <th>join_date</th>\n",
       "      <th>quit_date</th>\n",
       "    </tr>\n",
       "  </thead>\n",
       "  <tbody>\n",
       "    <tr>\n",
       "      <th>count</th>\n",
       "      <td>24702.000000</td>\n",
       "      <td>24702.000000</td>\n",
       "      <td>24702</td>\n",
       "      <td>24702.000000</td>\n",
       "      <td>24702.000000</td>\n",
       "      <td>24702</td>\n",
       "      <td>13510</td>\n",
       "    </tr>\n",
       "    <tr>\n",
       "      <th>unique</th>\n",
       "      <td>NaN</td>\n",
       "      <td>NaN</td>\n",
       "      <td>6</td>\n",
       "      <td>NaN</td>\n",
       "      <td>NaN</td>\n",
       "      <td>995</td>\n",
       "      <td>664</td>\n",
       "    </tr>\n",
       "    <tr>\n",
       "      <th>top</th>\n",
       "      <td>NaN</td>\n",
       "      <td>NaN</td>\n",
       "      <td>customer_service</td>\n",
       "      <td>NaN</td>\n",
       "      <td>NaN</td>\n",
       "      <td>2012-01-03</td>\n",
       "      <td>2015-05-08</td>\n",
       "    </tr>\n",
       "    <tr>\n",
       "      <th>freq</th>\n",
       "      <td>NaN</td>\n",
       "      <td>NaN</td>\n",
       "      <td>9180</td>\n",
       "      <td>NaN</td>\n",
       "      <td>NaN</td>\n",
       "      <td>105</td>\n",
       "      <td>111</td>\n",
       "    </tr>\n",
       "    <tr>\n",
       "      <th>mean</th>\n",
       "      <td>501604.403530</td>\n",
       "      <td>3.426969</td>\n",
       "      <td>NaN</td>\n",
       "      <td>14.127803</td>\n",
       "      <td>138183.345478</td>\n",
       "      <td>NaN</td>\n",
       "      <td>NaN</td>\n",
       "    </tr>\n",
       "    <tr>\n",
       "      <th>std</th>\n",
       "      <td>288909.026101</td>\n",
       "      <td>2.700011</td>\n",
       "      <td>NaN</td>\n",
       "      <td>8.089520</td>\n",
       "      <td>76058.184573</td>\n",
       "      <td>NaN</td>\n",
       "      <td>NaN</td>\n",
       "    </tr>\n",
       "    <tr>\n",
       "      <th>min</th>\n",
       "      <td>36.000000</td>\n",
       "      <td>1.000000</td>\n",
       "      <td>NaN</td>\n",
       "      <td>1.000000</td>\n",
       "      <td>17000.000000</td>\n",
       "      <td>NaN</td>\n",
       "      <td>NaN</td>\n",
       "    </tr>\n",
       "    <tr>\n",
       "      <th>25%</th>\n",
       "      <td>250133.750000</td>\n",
       "      <td>1.000000</td>\n",
       "      <td>NaN</td>\n",
       "      <td>7.000000</td>\n",
       "      <td>79000.000000</td>\n",
       "      <td>NaN</td>\n",
       "      <td>NaN</td>\n",
       "    </tr>\n",
       "    <tr>\n",
       "      <th>50%</th>\n",
       "      <td>500793.000000</td>\n",
       "      <td>2.000000</td>\n",
       "      <td>NaN</td>\n",
       "      <td>14.000000</td>\n",
       "      <td>123000.000000</td>\n",
       "      <td>NaN</td>\n",
       "      <td>NaN</td>\n",
       "    </tr>\n",
       "    <tr>\n",
       "      <th>75%</th>\n",
       "      <td>753137.250000</td>\n",
       "      <td>5.000000</td>\n",
       "      <td>NaN</td>\n",
       "      <td>21.000000</td>\n",
       "      <td>187000.000000</td>\n",
       "      <td>NaN</td>\n",
       "      <td>NaN</td>\n",
       "    </tr>\n",
       "    <tr>\n",
       "      <th>max</th>\n",
       "      <td>999969.000000</td>\n",
       "      <td>12.000000</td>\n",
       "      <td>NaN</td>\n",
       "      <td>99.000000</td>\n",
       "      <td>408000.000000</td>\n",
       "      <td>NaN</td>\n",
       "      <td>NaN</td>\n",
       "    </tr>\n",
       "  </tbody>\n",
       "</table>\n",
       "</div>"
      ],
      "text/plain": [
       "          employee_id    company_id              dept     seniority  \\\n",
       "count    24702.000000  24702.000000             24702  24702.000000   \n",
       "unique            NaN           NaN                 6           NaN   \n",
       "top               NaN           NaN  customer_service           NaN   \n",
       "freq              NaN           NaN              9180           NaN   \n",
       "mean    501604.403530      3.426969               NaN     14.127803   \n",
       "std     288909.026101      2.700011               NaN      8.089520   \n",
       "min         36.000000      1.000000               NaN      1.000000   \n",
       "25%     250133.750000      1.000000               NaN      7.000000   \n",
       "50%     500793.000000      2.000000               NaN     14.000000   \n",
       "75%     753137.250000      5.000000               NaN     21.000000   \n",
       "max     999969.000000     12.000000               NaN     99.000000   \n",
       "\n",
       "               salary   join_date   quit_date  \n",
       "count    24702.000000       24702       13510  \n",
       "unique            NaN         995         664  \n",
       "top               NaN  2012-01-03  2015-05-08  \n",
       "freq              NaN         105         111  \n",
       "mean    138183.345478         NaN         NaN  \n",
       "std      76058.184573         NaN         NaN  \n",
       "min      17000.000000         NaN         NaN  \n",
       "25%      79000.000000         NaN         NaN  \n",
       "50%     123000.000000         NaN         NaN  \n",
       "75%     187000.000000         NaN         NaN  \n",
       "max     408000.000000         NaN         NaN  "
      ]
     },
     "execution_count": 77,
     "metadata": {},
     "output_type": "execute_result"
    }
   ],
   "source": [
    "employee_retention.describe(include = 'all')"
   ]
  },
  {
   "cell_type": "markdown",
   "metadata": {},
   "source": [
    "The max seniority is 99, which is absurd.\n",
    "Except for quit date, all the other rows have 24702 entries. Around half of the employees didn't leave. "
   ]
  },
  {
   "cell_type": "code",
   "execution_count": 78,
   "metadata": {
    "collapsed": true
   },
   "outputs": [],
   "source": [
    "#fill in the na in quit_date column with the date after the end of the period and remove the 'seniority' outliers\n",
    "employee_retention['quit_date'].fillna(value = '2015-12-14', inplace = True)\n",
    "employee_retention = employee_retention[employee_retention['seniority'] < 40]"
   ]
  },
  {
   "cell_type": "markdown",
   "metadata": {
    "collapsed": true
   },
   "source": [
    "# create a table with day, employee_headcount, company_id"
   ]
  },
  {
   "cell_type": "code",
   "execution_count": 6,
   "metadata": {
    "collapsed": true
   },
   "outputs": [],
   "source": [
    "period_start = datetime(2011,1,24)\n",
    "period_end = datetime(2015,12,13)\n",
    "total_days = (period_end - period_start).days + 1\n",
    "days_list = [datetime.strftime(period_start + timedelta(days=x),'%Y-%m-%d') for x in range(0, total_days)]"
   ]
  },
  {
   "cell_type": "code",
   "execution_count": 7,
   "metadata": {},
   "outputs": [
    {
     "name": "stdout",
     "output_type": "stream",
     "text": [
      "[ 7  4  2  9  1  6 10  5  3  8 11 12]\n"
     ]
    }
   ],
   "source": [
    "#create company map\n",
    "company_id = employee_retention.company_id.unique()\n",
    "num_company = len(company_id)\n",
    "print(company_id)\n",
    "#company id are continuous number, we can use company_id-1 as the index for numpy array. "
   ]
  },
  {
   "cell_type": "code",
   "execution_count": 8,
   "metadata": {
    "collapsed": true
   },
   "outputs": [],
   "source": [
    "def get_time_index(date_str, period_start):\n",
    "    return (datetime.strptime(date_str,'%Y-%m-%d') - period_start).days"
   ]
  },
  {
   "cell_type": "code",
   "execution_count": 9,
   "metadata": {
    "collapsed": true
   },
   "outputs": [],
   "source": [
    "#loop over the array, add 1 to the range from beginning date to the end date\n",
    "date_company = np.zeros((total_days, 12), dtype=np.int)\n",
    "period_start = datetime(2011,1,24)\n",
    "for i in range(employee_retention.shape[0]):\n",
    "    start_date = employee_retention.loc[i, 'join_date']\n",
    "    start_ind = get_time_index(start_date, period_start)\n",
    "    end_date = employee_retention.loc[i, 'quit_date']\n",
    "    end_ind = get_time_index(end_date, period_start)\n",
    "    company_ind = employee_retention.loc[i, 'company_id'] - 1\n",
    "    date_company[start_ind:end_ind+1, company_ind] = date_company[start_ind:end_ind+1, company_ind] + 1"
   ]
  },
  {
   "cell_type": "code",
   "execution_count": 10,
   "metadata": {},
   "outputs": [
    {
     "data": {
      "text/plain": [
       "array([[  25,   17,    9, ...,    0,    0,    0],\n",
       "       [  27,   19,   10, ...,    0,    0,    0],\n",
       "       [  29,   19,   12, ...,    0,    0,    0],\n",
       "       ..., \n",
       "       [3865, 2016, 1218, ...,  385,    4,   12],\n",
       "       [3865, 2016, 1218, ...,  385,    4,   12],\n",
       "       [3865, 2016, 1218, ...,  385,    4,   12]])"
      ]
     },
     "execution_count": 10,
     "metadata": {},
     "output_type": "execute_result"
    }
   ],
   "source": [
    "date_company"
   ]
  },
  {
   "cell_type": "code",
   "execution_count": 11,
   "metadata": {
    "collapsed": true
   },
   "outputs": [],
   "source": [
    "# generate head_count table by unpivoting the date_company matrix\n",
    "date_company_entries = date_company.ravel('F')\n",
    "company_id_repeats= np.asarray(np.arange(1,13)).repeat(total_days)\n",
    "date_repeats = np.tile(np.asarray(days_list),num_company)\n",
    "\n",
    "data = {'date': date_repeats, 'company_id': company_id_repeats, 'number_employees': date_company_entries}\n",
    "head_count_table = pd.DataFrame(data, columns = ['date', 'company_id', 'number_employees'])"
   ]
  },
  {
   "cell_type": "code",
   "execution_count": 12,
   "metadata": {},
   "outputs": [
    {
     "data": {
      "text/html": [
       "<div>\n",
       "<style>\n",
       "    .dataframe thead tr:only-child th {\n",
       "        text-align: right;\n",
       "    }\n",
       "\n",
       "    .dataframe thead th {\n",
       "        text-align: left;\n",
       "    }\n",
       "\n",
       "    .dataframe tbody tr th {\n",
       "        vertical-align: top;\n",
       "    }\n",
       "</style>\n",
       "<table border=\"1\" class=\"dataframe\">\n",
       "  <thead>\n",
       "    <tr style=\"text-align: right;\">\n",
       "      <th></th>\n",
       "      <th>date</th>\n",
       "      <th>company_id</th>\n",
       "      <th>number_employees</th>\n",
       "    </tr>\n",
       "  </thead>\n",
       "  <tbody>\n",
       "    <tr>\n",
       "      <th>0</th>\n",
       "      <td>2011-01-24</td>\n",
       "      <td>1</td>\n",
       "      <td>25</td>\n",
       "    </tr>\n",
       "    <tr>\n",
       "      <th>1</th>\n",
       "      <td>2011-01-25</td>\n",
       "      <td>1</td>\n",
       "      <td>27</td>\n",
       "    </tr>\n",
       "    <tr>\n",
       "      <th>2</th>\n",
       "      <td>2011-01-26</td>\n",
       "      <td>1</td>\n",
       "      <td>29</td>\n",
       "    </tr>\n",
       "    <tr>\n",
       "      <th>3</th>\n",
       "      <td>2011-01-27</td>\n",
       "      <td>1</td>\n",
       "      <td>29</td>\n",
       "    </tr>\n",
       "    <tr>\n",
       "      <th>4</th>\n",
       "      <td>2011-01-28</td>\n",
       "      <td>1</td>\n",
       "      <td>29</td>\n",
       "    </tr>\n",
       "  </tbody>\n",
       "</table>\n",
       "</div>"
      ],
      "text/plain": [
       "         date  company_id  number_employees\n",
       "0  2011-01-24           1                25\n",
       "1  2011-01-25           1                27\n",
       "2  2011-01-26           1                29\n",
       "3  2011-01-27           1                29\n",
       "4  2011-01-28           1                29"
      ]
     },
     "execution_count": 12,
     "metadata": {},
     "output_type": "execute_result"
    }
   ],
   "source": [
    "head_count_table.head(5)"
   ]
  },
  {
   "cell_type": "markdown",
   "metadata": {},
   "source": [
    "# Main factors driving employee churn - classification setting"
   ]
  },
  {
   "cell_type": "code",
   "execution_count": 79,
   "metadata": {
    "collapsed": true
   },
   "outputs": [],
   "source": [
    "from sklearn.preprocessing import LabelEncoder\n",
    "from sklearn.model_selection import train_test_split\n",
    "from sklearn.ensemble import RandomForestClassifier\n",
    "from sklearn.metrics import accuracy_score, classification_report\n",
    "import matplotlib.pyplot as plt\n",
    "import seaborn as sns\n",
    "%matplotlib inline"
   ]
  },
  {
   "cell_type": "code",
   "execution_count": 80,
   "metadata": {
    "collapsed": true
   },
   "outputs": [],
   "source": [
    "#generate classifiction labels \n",
    "employee_retention['left'] = employee_retention['quit_date'].apply(lambda x: 1 if x != '2015-12-14' else 0)"
   ]
  },
  {
   "cell_type": "code",
   "execution_count": 81,
   "metadata": {},
   "outputs": [
    {
     "name": "stdout",
     "output_type": "stream",
     "text": [
      "13508 employees left, 11192 employees stayed\n"
     ]
    }
   ],
   "source": [
    "num_employee = employee_retention.shape[0]\n",
    "num_left_employee = sum(employee_retention['left'])\n",
    "print \"{} employees left, {} employees stayed\".format(num_left_employee, num_employee - num_left_employee)"
   ]
  },
  {
   "cell_type": "code",
   "execution_count": 82,
   "metadata": {
    "collapsed": true
   },
   "outputs": [],
   "source": [
    "feature = employee_retention.drop(['employee_id', 'join_date', 'quit_date','left'], axis = 1)\n",
    "feature = pd.get_dummies(feature, drop_first=True)\n",
    "label = employee_retention['left']"
   ]
  },
  {
   "cell_type": "code",
   "execution_count": 83,
   "metadata": {},
   "outputs": [
    {
     "data": {
      "text/html": [
       "<div>\n",
       "<style>\n",
       "    .dataframe thead tr:only-child th {\n",
       "        text-align: right;\n",
       "    }\n",
       "\n",
       "    .dataframe thead th {\n",
       "        text-align: left;\n",
       "    }\n",
       "\n",
       "    .dataframe tbody tr th {\n",
       "        vertical-align: top;\n",
       "    }\n",
       "</style>\n",
       "<table border=\"1\" class=\"dataframe\">\n",
       "  <thead>\n",
       "    <tr style=\"text-align: right;\">\n",
       "      <th></th>\n",
       "      <th>company_id</th>\n",
       "      <th>seniority</th>\n",
       "      <th>salary</th>\n",
       "      <th>dept_data_science</th>\n",
       "      <th>dept_design</th>\n",
       "      <th>dept_engineer</th>\n",
       "      <th>dept_marketing</th>\n",
       "      <th>dept_sales</th>\n",
       "    </tr>\n",
       "  </thead>\n",
       "  <tbody>\n",
       "    <tr>\n",
       "      <th>0</th>\n",
       "      <td>7</td>\n",
       "      <td>28</td>\n",
       "      <td>89000.0</td>\n",
       "      <td>0</td>\n",
       "      <td>0</td>\n",
       "      <td>0</td>\n",
       "      <td>0</td>\n",
       "      <td>0</td>\n",
       "    </tr>\n",
       "    <tr>\n",
       "      <th>1</th>\n",
       "      <td>7</td>\n",
       "      <td>20</td>\n",
       "      <td>183000.0</td>\n",
       "      <td>0</td>\n",
       "      <td>0</td>\n",
       "      <td>0</td>\n",
       "      <td>1</td>\n",
       "      <td>0</td>\n",
       "    </tr>\n",
       "  </tbody>\n",
       "</table>\n",
       "</div>"
      ],
      "text/plain": [
       "   company_id  seniority    salary  dept_data_science  dept_design  \\\n",
       "0           7         28   89000.0                  0            0   \n",
       "1           7         20  183000.0                  0            0   \n",
       "\n",
       "   dept_engineer  dept_marketing  dept_sales  \n",
       "0              0               0           0  \n",
       "1              0               1           0  "
      ]
     },
     "execution_count": 83,
     "metadata": {},
     "output_type": "execute_result"
    }
   ],
   "source": [
    "feature.head(2)"
   ]
  },
  {
   "cell_type": "code",
   "execution_count": 84,
   "metadata": {
    "collapsed": true
   },
   "outputs": [],
   "source": [
    "x_train, x_test, y_train, y_test = train_test_split(feature, label, test_size=0.3, random_state=0)"
   ]
  },
  {
   "cell_type": "code",
   "execution_count": 85,
   "metadata": {
    "collapsed": true
   },
   "outputs": [],
   "source": [
    "# logistic regression model\n",
    "from sklearn.linear_model import LogisticRegression\n",
    "logistic_classifier = LogisticRegression()\n",
    "logistic_classifier.fit(x_train, y_train)\n",
    "lr_preds = logistic_classifier.predict(x_test)"
   ]
  },
  {
   "cell_type": "code",
   "execution_count": 86,
   "metadata": {},
   "outputs": [
    {
     "name": "stdout",
     "output_type": "stream",
     "text": [
      "The accuracy of logistic regression classifier is 0.547638326586.\n"
     ]
    }
   ],
   "source": [
    "print \"The accuracy of logistic regression classifier is {}.\".format(accuracy_score(y_test, lr_preds))"
   ]
  },
  {
   "cell_type": "code",
   "execution_count": 87,
   "metadata": {},
   "outputs": [
    {
     "name": "stdout",
     "output_type": "stream",
     "text": [
      "The accuracy of random forest classifier is 0.553171390013.\n"
     ]
    }
   ],
   "source": [
    "# Logistic regression in scikit learn does not give feature importance, so here I use the random forest classifier. \n",
    "# # tuning RF parameters. https://www.kaggle.com/hadend/tuning-random-forest-parameters\n",
    "# # https://www.kaggle.com/general/4092\n",
    "rf_clf = RandomForestClassifier(min_samples_leaf=25, n_estimators=20)\n",
    "rf_clf.fit(x_train, y_train)\n",
    "rf_preds = rf_clf.predict(x_test)\n",
    "print \"The accuracy of random forest classifier is {}.\".format(accuracy_score(y_test, rf_preds))\n",
    "# print(classification_report(y_test, rf_preds))"
   ]
  },
  {
   "cell_type": "code",
   "execution_count": 88,
   "metadata": {},
   "outputs": [
    {
     "data": {
      "text/plain": [
       "<matplotlib.axes._subplots.AxesSubplot at 0x115edc6d0>"
      ]
     },
     "execution_count": 88,
     "metadata": {},
     "output_type": "execute_result"
    },
    {
     "data": {
      "image/png": "[encoded data removed]",
      "text/plain": [
       "<matplotlib.figure.Figure at 0x116ae3590>"
      ]
     },
     "metadata": {},
     "output_type": "display_data"
    }
   ],
   "source": [
    "# plot feature importance\n",
    "feats = {} \n",
    "for feature, importance in zip(feature.columns, rf_clf.feature_importances_):\n",
    "    feats[feature] = importance \n",
    "\n",
    "importances = pd.DataFrame.from_dict(feats, orient='index').rename(columns={0: 'Gini-importance'})\n",
    "importances.sort_values(by='Gini-importance').plot(kind='bar', rot=90)"
   ]
  },
  {
   "cell_type": "markdown",
   "metadata": {},
   "source": [
    "# Moving to a regression setting"
   ]
  },
  {
   "cell_type": "markdown",
   "metadata": {
    "collapsed": true
   },
   "source": [
    "Consider some feature engineering.The impression is that the employers have larger tendency to leave their job after being there for a while. So the employment length should be a factor in predicting whether an employer will leave. But the problem is that if we use employment_length = quit_date-join_date to predict whether an employer will leave, there will be data leakage? \n",
    "\n",
    "Re-read the problem, the task is to predict when employees is going to quit. So I think the problem should be re-formulated as a regression problem, in which we try to predict employment length. But in this case, only the data which left == 1 is usable... "
   ]
  },
  {
   "cell_type": "code",
   "execution_count": 94,
   "metadata": {
    "collapsed": true
   },
   "outputs": [],
   "source": [
    "def length_of_stay(end_date_str, start_date_str):\n",
    "    return (datetime.strptime(end_date_str,'%Y-%m-%d') - datetime.strptime(start_date_str,'%Y-%m-%d')).days\n",
    "\n",
    "employee_retention['length_of_stay'] = employee_retention[['quit_date','join_date']].\\\n",
    "                                        apply(lambda x: length_of_stay(*x), axis = 1)"
   ]
  },
  {
   "cell_type": "code",
   "execution_count": 95,
   "metadata": {},
   "outputs": [
    {
     "data": {
      "text/plain": [
       "<matplotlib.axes._subplots.AxesSubplot at 0x1165e91d0>"
      ]
     },
     "execution_count": 95,
     "metadata": {},
     "output_type": "execute_result"
    },
    {
     "data": {
      "image/png": "[encoded data removed]",
      "text/plain": [
       "<matplotlib.figure.Figure at 0x117308ad0>"
      ]
     },
     "metadata": {},
     "output_type": "display_data"
    }
   ],
   "source": [
    "sns.distplot(employee_retention['length_of_stay'])"
   ]
  },
  {
   "cell_type": "code",
   "execution_count": 61,
   "metadata": {},
   "outputs": [
    {
     "data": {
      "image/png": "[encoded data removed]",
      "text/plain": [
       "<matplotlib.figure.Figure at 0x1166e2410>"
      ]
     },
     "metadata": {},
     "output_type": "display_data"
    }
   ],
   "source": [
    "#visualize the relationship between features and employment length\n",
    "employee_retention_part = employee_retention[employee_retention['left'] == 1]\n",
    "sns.set(font_scale=1) \n",
    "fig, axs = plt.subplots(nrows = 2, ncols=2, figsize=(10,10))\n",
    "sns.regplot(x='seniority', y='length_of_stay', data=employee_retention_part, ax=axs[0][0])\n",
    "sns.regplot(x='salary', y='length_of_stay', data=employee_retention_part, ax=axs[0][1])\n",
    "sns.boxplot(x='dept',y='length_of_stay', data=employee_retention_part, ax=axs[1][0])\n",
    "sns.boxplot(x='company_id',y='length_of_stay', data=employee_retention_part, ax=axs[1][1])\n",
    "for tick in axs[1][0].get_xticklabels():\n",
    "    tick.set_rotation(45)"
   ]
  },
  {
   "cell_type": "markdown",
   "metadata": {},
   "source": [
    "The distribution of length_of_stay showed interesting characteristics. There are two strong peaks, one around 300 and the other around 700. So people tend to stay multiples of years. \n",
    "From the plot below, it seems people with higher salaries tend to stay longer, which also makes sense. But this is not an actionable idea, as we cannot just tell companies to raise salary to keep the employees. "
   ]
  },
  {
   "cell_type": "markdown",
   "metadata": {},
   "source": [
    "# Survival Analysis"
   ]
  },
  {
   "cell_type": "code",
   "execution_count": 89,
   "metadata": {
    "collapsed": true
   },
   "outputs": [],
   "source": [
    "from lifelines import CoxPHFitter\n",
    "from sklearn.preprocessing import StandardScaler"
   ]
  },
  {
   "cell_type": "code",
   "execution_count": 107,
   "metadata": {
    "collapsed": true
   },
   "outputs": [],
   "source": [
    "# pre-processing data: get-dummy variables, standarize the data\n",
    "# standarization is not essential. But here we focus on the importance of the feature rather \n",
    "# than the actual coefficient, standarization will help the algorithm to stablize and converge\n",
    "# faster. \n",
    "survival_data = employee_retention.drop(['employee_id', 'join_date', 'quit_date'],\\\n",
    "                                       axis = 1)\n",
    "survival_data = pd.get_dummies(survival_data, drop_first=True)\n",
    "\n",
    "scaler = StandardScaler()\n",
    "survival_data[['seniority', 'salary']] = scaler.fit_transform(survival_data\\\n",
    "                                                              [['seniority', 'salary']])"
   ]
  },
  {
   "cell_type": "code",
   "execution_count": 98,
   "metadata": {},
   "outputs": [
    {
     "data": {
      "text/html": [
       "<div>\n",
       "<style>\n",
       "    .dataframe thead tr:only-child th {\n",
       "        text-align: right;\n",
       "    }\n",
       "\n",
       "    .dataframe thead th {\n",
       "        text-align: left;\n",
       "    }\n",
       "\n",
       "    .dataframe tbody tr th {\n",
       "        vertical-align: top;\n",
       "    }\n",
       "</style>\n",
       "<table border=\"1\" class=\"dataframe\">\n",
       "  <thead>\n",
       "    <tr style=\"text-align: right;\">\n",
       "      <th></th>\n",
       "      <th>company_id</th>\n",
       "      <th>seniority</th>\n",
       "      <th>salary</th>\n",
       "      <th>left</th>\n",
       "      <th>length_of_stay</th>\n",
       "      <th>dept_data_science</th>\n",
       "      <th>dept_design</th>\n",
       "      <th>dept_engineer</th>\n",
       "      <th>dept_marketing</th>\n",
       "      <th>dept_sales</th>\n",
       "    </tr>\n",
       "  </thead>\n",
       "  <tbody>\n",
       "    <tr>\n",
       "      <th>0</th>\n",
       "      <td>7</td>\n",
       "      <td>28</td>\n",
       "      <td>89000.0</td>\n",
       "      <td>1</td>\n",
       "      <td>585</td>\n",
       "      <td>0</td>\n",
       "      <td>0</td>\n",
       "      <td>0</td>\n",
       "      <td>0</td>\n",
       "      <td>0</td>\n",
       "    </tr>\n",
       "    <tr>\n",
       "      <th>1</th>\n",
       "      <td>7</td>\n",
       "      <td>20</td>\n",
       "      <td>183000.0</td>\n",
       "      <td>1</td>\n",
       "      <td>340</td>\n",
       "      <td>0</td>\n",
       "      <td>0</td>\n",
       "      <td>0</td>\n",
       "      <td>1</td>\n",
       "      <td>0</td>\n",
       "    </tr>\n",
       "  </tbody>\n",
       "</table>\n",
       "</div>"
      ],
      "text/plain": [
       "   company_id  seniority    salary  left  length_of_stay  dept_data_science  \\\n",
       "0           7         28   89000.0     1             585                  0   \n",
       "1           7         20  183000.0     1             340                  0   \n",
       "\n",
       "   dept_design  dept_engineer  dept_marketing  dept_sales  \n",
       "0            0              0               0           0  \n",
       "1            0              0               1           0  "
      ]
     },
     "execution_count": 98,
     "metadata": {},
     "output_type": "execute_result"
    }
   ],
   "source": [
    "survival_data.head(2)"
   ]
  },
  {
   "cell_type": "code",
   "execution_count": 105,
   "metadata": {},
   "outputs": [
    {
     "name": "stdout",
     "output_type": "stream",
     "text": [
      "n=24700, number of events=13508\n",
      "\n",
      "                     coef  exp(coef)  se(coef)       z      p  lower 0.95  upper 0.95     \n",
      "company_id        -0.0007     0.9993    0.0034 -0.2232 0.8234     -0.0073      0.0058     \n",
      "seniority          0.0864     1.0902    0.0136  6.3466 0.0000      0.0597      0.1130  ***\n",
      "salary            -0.1435     0.8663    0.0189 -7.5926 0.0000     -0.1805     -0.1064  ***\n",
      "dept_data_science  0.0619     1.0639    0.0416  1.4875 0.1369     -0.0197      0.1435     \n",
      "dept_design        0.0922     1.0966    0.0407  2.2686 0.0233      0.0125      0.1720    *\n",
      "dept_engineer      0.0350     1.0356    0.0396  0.8824 0.3775     -0.0427      0.1127     \n",
      "dept_marketing     0.1162     1.1232    0.0305  3.8072 0.0001      0.0564      0.1760  ***\n",
      "dept_sales         0.1623     1.1762    0.0303  5.3539 0.0000      0.1029      0.2217  ***\n",
      "---\n",
      "Signif. codes:  0 '***' 0.001 '**' 0.01 '*' 0.05 '.' 0.1 ' ' 1 \n",
      "\n",
      "Concordance = 0.534\n"
     ]
    }
   ],
   "source": [
    "cph = CoxPHFitter()\n",
    "cph.fit(survival_data, duration_col='length_of_stay', event_col='left')\n",
    "cph.print_summary()  # access the results using cph.summary"
   ]
  },
  {
   "cell_type": "code",
   "execution_count": 106,
   "metadata": {},
   "outputs": [
    {
     "data": {
      "text/plain": [
       "<matplotlib.axes._subplots.AxesSubplot at 0x1166d6050>"
      ]
     },
     "execution_count": 106,
     "metadata": {},
     "output_type": "execute_result"
    },
    {
     "data": {
      "image/png": "[encoded data removed]",
      "text/plain": [
       "<matplotlib.figure.Figure at 0x1165dab10>"
      ]
     },
     "metadata": {},
     "output_type": "display_data"
    }
   ],
   "source": [
    "cph.plot()"
   ]
  },
  {
   "cell_type": "markdown",
   "metadata": {},
   "source": [
    "Usually, |z| is greater than 2 means the feature is important in regression analysis. \n",
    "Conclusion: \n",
    "The more senior, the more chance to quit. \n",
    "The higher the salary, the smaller chance to quit. \n",
    "Sales and marketing people quit more frequent. "
   ]
  },
  {
   "cell_type": "markdown",
   "metadata": {},
   "source": [
    "If one more feature could be add, I would choose employment history, especially the average previous employment length for each of the employees. "
   ]
  }
 ],
 "metadata": {
  "kernelspec": {
   "display_name": "Python 2",
   "language": "python",
   "name": "python2"
  },
  "language_info": {
   "codemirror_mode": {
    "name": "ipython",
    "version": 2
   },
   "file_extension": ".py",
   "mimetype": "text/x-python",
   "name": "python",
   "nbconvert_exporter": "python",
   "pygments_lexer": "ipython2",
   "version": "2.7.13"
  }
 },
 "nbformat": 4,
 "nbformat_minor": 2
}
